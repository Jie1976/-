{
 "cells": [
  {
   "cell_type": "code",
   "execution_count": 26,
   "metadata": {},
   "outputs": [
    {
     "name": "stdout",
     "output_type": "stream",
     "text": [
      "Hello, I am John, 14歲, 等級是20\n",
      "Hello, I am Jie, 25歲, 等級是1\n"
     ]
    }
   ],
   "source": [
    "# 物件導向設式設計：用物件來表達多欄位資料\n",
    "\n",
    "# 字典{}的缺點:想表達多筆多欄位的資料時,得多打很多字.\n",
    "# 物件導向的優勢，僅需要寫異處即代表該筆資料。\n",
    "# 且，物件導向易用於需要新增欄位時，僅需增加需要增加的項目,而不用全加\n",
    "\n",
    "# 1. 類別(class):創造物件的模版/藍圖\n",
    "# 2. 物件(object): a.可以有一個以上的欄位,稱之為屬性(attribute),以及方法(function)\n",
    "#                  b. 物件必須要透過類別(class)產生 (沒有類別,就沒有物件,因此,要先創造類別,才能產生物件)\n",
    "\n",
    "# 函數是包裝一個流程; 類別的目的是為了產生物件\n",
    "\n",
    "class User: #設計名為USER的類別/模版\n",
    "    def __init__(self,name,age,level=1):   #初始函數 initial:會在類別產生物件時自動被觸發\n",
    "                                #self是代名詞,用來代表類別產生的物件.以下題為例即是a and b\n",
    "        #print(\"有一個USER物件被產生!\")\n",
    "        self.name=name    #物件可以有函數\n",
    "        self.age=age\n",
    "        self.level=level\n",
    "        #self.age=20, 指定每筆資料的age都是20\n",
    "        self.intro()\n",
    "\n",
    "    def intro(self):\n",
    "        print(f\"Hello, I am {self.name}, {self.age}歲, 等級是{self.level}\")\n",
    "        \n",
    "\n",
    "\n",
    "\n",
    "a=User(\"John\", 14, 20) #用User類別產生物件a\n",
    "b=User(\"Jie\", 25) #用User類別產生物件b\n",
    "\n",
    "\n",
    "\n"
   ]
  },
  {
   "cell_type": "code",
   "execution_count": 1,
   "metadata": {},
   "outputs": [
    {
     "name": "stdout",
     "output_type": "stream",
     "text": [
      "Requirement already satisfied: python-dotenv in c:\\users\\jie\\anaconda3\\lib\\site-packages (0.21.0)\n"
     ]
    }
   ],
   "source": [
    "!pip install python-dotenv\n"
   ]
  }
 ],
 "metadata": {
  "kernelspec": {
   "display_name": "base",
   "language": "python",
   "name": "python3"
  },
  "language_info": {
   "codemirror_mode": {
    "name": "ipython",
    "version": 3
   },
   "file_extension": ".py",
   "mimetype": "text/x-python",
   "name": "python",
   "nbconvert_exporter": "python",
   "pygments_lexer": "ipython3",
   "version": "3.12.7"
  }
 },
 "nbformat": 4,
 "nbformat_minor": 2
}
